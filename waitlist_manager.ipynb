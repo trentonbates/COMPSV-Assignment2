{
 "cells": [
  {
   "cell_type": "code",
   "execution_count": 1,
   "id": "6b0eed67",
   "metadata": {},
   "outputs": [],
   "source": [
    "class Node:\n",
    "    '''\n",
    "    A class representing a node in a linked list.\n",
    "    Attributes:\n",
    "        name (str): The name of the customer.\n",
    "        next (Node): A reference to the next node in the list.\n",
    "    '''\n",
    "\n",
    "    def __init__(self, name):\n",
    "        self.name = name\n",
    "        self.next = None"
   ]
  },
  {
   "cell_type": "code",
   "execution_count": 6,
   "id": "03ae5f50",
   "metadata": {},
   "outputs": [
    {
     "name": "stdout",
     "output_type": "stream",
     "text": [
      "John Doe\n",
      "None\n"
     ]
    }
   ],
   "source": [
    "test_node = Node('John Doe')\n",
    "print(test_node.name)\n",
    "print(test_node.next)"
   ]
  },
  {
   "cell_type": "code",
   "execution_count": 7,
   "id": "c09dbcf0",
   "metadata": {},
   "outputs": [],
   "source": [
    "class LinkedList:\n",
    "    '''\n",
    "    A class representing a linked list to manage a waitlist.\n",
    "    Attributes:\n",
    "        head (Node): The first node in the linked list.\n",
    "    Methods:\n",
    "        add_front(name): Adds a customer to the front of the waitlist.\n",
    "        add_end(name): Adds a customer to the end of the waitlist.\n",
    "        remove(name): Removes a customer from the waitlist by name.\n",
    "        print_list(): Prints the current waitlist.\n",
    "    '''\n",
    "\n",
    "    def __init__(self):\n",
    "        self.head = None"
   ]
  },
  {
   "cell_type": "code",
   "execution_count": 8,
   "id": "4d9e3663",
   "metadata": {},
   "outputs": [
    {
     "name": "stdout",
     "output_type": "stream",
     "text": [
      "<__main__.LinkedList object at 0x7d9f8cfd6d20>\n"
     ]
    }
   ],
   "source": [
    "test_linkedlist = LinkedList()\n",
    "print(test_linkedlist)"
   ]
  }
 ],
 "metadata": {
  "kernelspec": {
   "display_name": "Python 3",
   "language": "python",
   "name": "python3"
  },
  "language_info": {
   "codemirror_mode": {
    "name": "ipython",
    "version": 3
   },
   "file_extension": ".py",
   "mimetype": "text/x-python",
   "name": "python",
   "nbconvert_exporter": "python",
   "pygments_lexer": "ipython3",
   "version": "3.12.1"
  }
 },
 "nbformat": 4,
 "nbformat_minor": 5
}
